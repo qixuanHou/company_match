{
 "cells": [
  {
   "cell_type": "code",
   "execution_count": 1,
   "metadata": {},
   "outputs": [],
   "source": [
    "import pandas as pd\n",
    "import numpy as np\n",
    "import re"
   ]
  },
  {
   "cell_type": "code",
   "execution_count": 14,
   "metadata": {},
   "outputs": [],
   "source": [
    "company = pd.read_csv(\"gvkey.csv\")\n",
    "patent = pd.read_csv(\"patent_org .csv\", header=None, names=[\"PATENT\",\"COMPANY\",\"a\",\"b\",\"c\",\"d\",\"g\"])\n",
    "\n",
    "companiesP = pd.DataFrame(patent[\"COMPANY\"].unique(), columns=[\"patent\"])\n",
    "companiesC = pd.DataFrame(company[\"COMPANY\"].unique(), columns=[\"org\"])\n",
    "\n",
    "companiesP[\"comp\"] = companiesP[\"patent\"]\n",
    "companiesC[\"comp\"] = companiesC[\"org\"]"
   ]
  },
  {
   "cell_type": "code",
   "execution_count": 31,
   "metadata": {},
   "outputs": [
    {
     "name": "stdout",
     "output_type": "stream",
     "text": [
      "0.03976135016958849\n"
     ]
    }
   ],
   "source": [
    "pList = companiesP[\"comp\"].unique()\n",
    "cList = companiesC[\"comp\"].unique()\n",
    "count = 0\n",
    "for p in pList:\n",
    "    if (p in cList):\n",
    "        count = count + 1\n",
    "\n",
    "print(count / len(pList))"
   ]
  },
  {
   "cell_type": "code",
   "execution_count": 32,
   "metadata": {},
   "outputs": [],
   "source": [
    "matched = pd.merge(companiesP, companiesC, left_on=\"comp\", right_on=\"comp\", how=\"inner\")\n",
    "# matched.to_csv(\"found_match.csv\")"
   ]
  },
  {
   "cell_type": "code",
   "execution_count": 33,
   "metadata": {},
   "outputs": [],
   "source": [
    "matched.to_csv(\"found_match.csv\")"
   ]
  },
  {
   "cell_type": "code",
   "execution_count": 28,
   "metadata": {},
   "outputs": [],
   "source": [
    "def removeSpecialchar(mystring):\n",
    "    return re.sub('[^A-Za-z0-9 ]+', '', mystring)\n",
    "\n",
    "def removeLLP(mystring):\n",
    "    if (mystring[-2:] in [\" A\", \" P\"]):\n",
    "        return mystring[:-2].strip()\n",
    "    if (mystring[-3:] in [\" PA\", \" PC\", \" CP\", \" CL\", \" CO\", \" LP\", \" AL\"]):\n",
    "        return mystring[:-3].strip()\n",
    "    if (mystring[-4:] in [\" LLP\",\" LLC\", \" LTD\", \" INC\", \" OLD\", \" OPP\", \" PLC\", \" ETC\"]):\n",
    "        return mystring[:-4].strip()\n",
    "    if (mystring[-5:] in [\" PLLC\", \" CORP\", \" LLLC\"]):\n",
    "        return mystring[:-5].strip()\n",
    "    return mystring.strip()\n",
    "\n",
    "\n",
    "def replaceWords(my):\n",
    "    if (\"TECHNOLOGIES\" in my):\n",
    "        return my.replace(\"TECHNOLOGIES\", \"TECHNOLOGY\").strip()\n",
    "    if (\"LABORATORY\" in my):\n",
    "        return my.replace(\"LABORATORY\", \"LAB\").strip()\n",
    "    if (\"AND\" in my):\n",
    "        return my.replace(\"AND \", \"\").strip()\n",
    "    if (\"COMPANY\" in my):\n",
    "        return my.replace(\" COMPANY\", \"\").strip()\n",
    "    if (\"CORPORATION\" in my):\n",
    "        return my.replace(\"CORPORATION\", \"\").strip()\n",
    "    if (\"COPANY\" in my):\n",
    "        return my.replace(\"COPANY\", \"\").strip()\n",
    "    return my.replace(\"  \",\" \").replace(\"   \",\" \").strip()\n",
    "\n",
    "matched = pd.read_csv(\"matched.csv\")\n",
    "matched_right = matched[\"right_side\"].unique()\n",
    "\n",
    "def matchedC(col):\n",
    "    if (col in matched_right):\n",
    "        return matched[matched[\"right_side\"] == col][\"left_side\"].squeeze()\n",
    "    else:\n",
    "        return col\n",
    "companiesP[\"comp\"] = companiesP[\"comp\"].apply(lambda x : x.upper())\n",
    "companiesP[\"comp\"] = companiesP[\"comp\"].apply(removeSpecialchar)\n",
    "companiesC[\"comp\"] = companiesC[\"comp\"].apply(removeSpecialchar)\n",
    "\n",
    "\n",
    "companiesP[\"comp\"] = companiesP[\"comp\"].apply(removeLLP)\n",
    "companiesC[\"comp\"] = companiesC[\"comp\"].apply(removeLLP)\n",
    "\n",
    "companiesP[\"comp\"] = companiesP[\"comp\"].apply(removeLLP)\n",
    "companiesC[\"comp\"] = companiesC[\"comp\"].apply(removeLLP)\n",
    "\n",
    "\n",
    "companiesP[\"comp\"] = companiesP[\"comp\"].apply(removeLLP)\n",
    "companiesC[\"comp\"] = companiesC[\"comp\"].apply(removeLLP)\n",
    "\n",
    "companiesP[\"comp\"] = companiesP[\"comp\"].apply(removeLLP)\n",
    "companiesC[\"comp\"] = companiesC[\"comp\"].apply(removeLLP)\n",
    "\n",
    "companiesP[\"comp\"] = companiesP[\"comp\"].apply(removeLLP)\n",
    "companiesC[\"comp\"] = companiesC[\"comp\"].apply(removeLLP)\n",
    "\n",
    "companiesP[\"comp\"] = companiesP[\"comp\"].apply(removeLLP)\n",
    "companiesC[\"comp\"] = companiesC[\"comp\"].apply(removeLLP)\n",
    "\n",
    "companiesP[\"comp\"] = companiesP[\"comp\"].apply(removeLLP)\n",
    "companiesC[\"comp\"] = companiesC[\"comp\"].apply(removeLLP)\n",
    "\n",
    "companiesP[\"comp\"] = companiesP[\"comp\"].apply(removeLLP)\n",
    "companiesC[\"comp\"] = companiesC[\"comp\"].apply(removeLLP)\n",
    "\n",
    "\n",
    "companiesP[\"comp\"] = companiesP[\"comp\"].apply(removeLLP)\n",
    "companiesC[\"comp\"] = companiesC[\"comp\"].apply(removeLLP)\n",
    "\n",
    "companiesP[\"comp\"] = companiesP[\"comp\"].apply(removeLLP)\n",
    "companiesC[\"comp\"] = companiesC[\"comp\"].apply(removeLLP)\n",
    "\n",
    "companiesP[\"comp\"] = companiesP[\"comp\"].apply(replaceWords)\n",
    "companiesC[\"comp\"] = companiesC[\"comp\"].apply(replaceWords)\n",
    "\n",
    "companiesP[\"comp\"] = companiesP[\"comp\"].apply(matchedC)\n",
    "companiesC[\"comp\"] = companiesC[\"comp\"].apply(matchedC)\n"
   ]
  },
  {
   "cell_type": "code",
   "execution_count": 29,
   "metadata": {},
   "outputs": [],
   "source": [
    "import numpy as np\n",
    "import os\n",
    "import pandas as pd\n",
    "import matplotlib.pyplot as plt\n",
    "from sklearn.feature_extraction.text import TfidfVectorizer\n",
    "import fuzzy_match\n",
    "import re\n",
    "from ftfy import fix_text\n",
    "\n",
    "# calculate cossim similarity \n",
    "text_unique = list(set(list(companiesP['comp'].unique()) + list(companiesC['comp'].unique())))\n",
    "\n",
    "vectorizer = TfidfVectorizer(min_df=1, analyzer=fuzzy_match.ngrams)\n",
    "tf_idf_matrix = vectorizer.fit_transform(text_unique)\n",
    "matches = fuzzy_match.awesome_cossim_top(tf_idf_matrix, tf_idf_matrix.transpose(), 10, 0.01)\n",
    "\n",
    "matches_df = fuzzy_match.get_matches_df(matches, text_unique)\n",
    "matched = matches_df[matches_df['similarity'] < 0.99999999].sort_values(by=['similarity'], ascending=False)\n"
   ]
  },
  {
   "cell_type": "code",
   "execution_count": 30,
   "metadata": {},
   "outputs": [],
   "source": [
    "matched.to_csv(\"matched_1.csv\")"
   ]
  },
  {
   "cell_type": "code",
   "execution_count": 35,
   "metadata": {},
   "outputs": [
    {
     "name": "stderr",
     "output_type": "stream",
     "text": [
      "/Library/Frameworks/Python.framework/Versions/3.8/lib/python3.8/site-packages/IPython/core/interactiveshell.py:3145: DtypeWarning: Columns (5) have mixed types.Specify dtype option on import or set low_memory=False.\n",
      "  has_raised = await self.run_ast_nodes(code_ast.body, cell_name,\n"
     ]
    }
   ],
   "source": [
    "\n",
    "patent = pd.read_csv(\"patent_org .csv\", header=None, names=[\"PATENT\",\"COMPANY\",\"a\",\"b\",\"c\",\"d\",\"g\"])\n",
    "patent.head()\n",
    "\n",
    "matched_1 = pd.merge(matched, patent, left_on=\"patent\", right_on=\"COMPANY\", how=\"outer\")\n",
    "# matched.to_csv(\"found_match.csv\")"
   ]
  },
  {
   "cell_type": "code",
   "execution_count": 37,
   "metadata": {},
   "outputs": [],
   "source": [
    "matched_1.head()\n",
    "\n",
    "matched_1 = matched_1.drop(['patent'], axis=1)\n",
    "matched_1.to_csv(\"patent_full.csv\")"
   ]
  },
  {
   "cell_type": "code",
   "execution_count": 38,
   "metadata": {},
   "outputs": [
    {
     "name": "stderr",
     "output_type": "stream",
     "text": [
      "/Library/Frameworks/Python.framework/Versions/3.8/lib/python3.8/site-packages/IPython/core/interactiveshell.py:3145: DtypeWarning: Columns (5) have mixed types.Specify dtype option on import or set low_memory=False.\n",
      "  has_raised = await self.run_ast_nodes(code_ast.body, cell_name,\n"
     ]
    }
   ],
   "source": [
    "\n",
    "patent = pd.read_csv(\"patent_org .csv\", header=None, names=[\"PATENT\",\"COMPANY\",\"a\",\"b\",\"c\",\"d\",\"g\"])\n",
    "patent.head()\n",
    "\n",
    "matched_1 = pd.merge(matched, patent, left_on=\"patent\", right_on=\"COMPANY\", how=\"left\")\n",
    "matched_1 = matched_1.drop(['patent'], axis=1)\n",
    "matched_1.to_csv(\"patent_partial.csv\")"
   ]
  },
  {
   "cell_type": "code",
   "execution_count": null,
   "metadata": {},
   "outputs": [],
   "source": []
  }
 ],
 "metadata": {
  "kernelspec": {
   "display_name": "Python 3",
   "language": "python",
   "name": "python3"
  },
  "language_info": {
   "codemirror_mode": {
    "name": "ipython",
    "version": 3
   },
   "file_extension": ".py",
   "mimetype": "text/x-python",
   "name": "python",
   "nbconvert_exporter": "python",
   "pygments_lexer": "ipython3",
   "version": "3.8.5"
  }
 },
 "nbformat": 4,
 "nbformat_minor": 4
}
